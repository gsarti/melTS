{
 "cells": [
  {
   "cell_type": "code",
   "execution_count": 9,
   "metadata": {},
   "outputs": [],
   "source": [
    "import pandas as pd\n",
    "import re\n",
    "import numpy as np"
   ]
  },
  {
   "cell_type": "markdown",
   "metadata": {},
   "source": [
    "# Loading Datasets"
   ]
  },
  {
   "cell_type": "code",
   "execution_count": 10,
   "metadata": {},
   "outputs": [],
   "source": [
    "sea_level_df = pd.read_csv(\"./data/sea_level.csv\", header=0)\n",
    "# print(sea_level_df.to_string)"
   ]
  },
  {
   "cell_type": "code",
   "execution_count": 11,
   "metadata": {},
   "outputs": [],
   "source": [
    "temperature_df = pd.read_csv(\"./data/temperature.csv\", header=0)\n",
    "# print(temperature_df.to_string)"
   ]
  },
  {
   "cell_type": "code",
   "execution_count": 12,
   "metadata": {},
   "outputs": [],
   "source": [
    "ice_melting_df = pd.read_csv(\"./data/ice_melting.csv\", header=0)\n",
    "# print(ice_melting_df.to_string)"
   ]
  },
  {
   "cell_type": "markdown",
   "metadata": {},
   "source": [
    "# Data Cleaning"
   ]
  },
  {
   "cell_type": "code",
   "execution_count": 13,
   "metadata": {},
   "outputs": [],
   "source": [
    "sea_level_df.drop(sea_level_df.columns[2:], axis=1, inplace=True)\n",
    "sea_level_df = sea_level_df.iloc[65:134]\n",
    "sea_level_df.rename(columns={'CSIRO Adjusted Sea Level' : 'sea_level', 'Year' : 'year'}, inplace = True)\n",
    "sea_level_df['year'] = sea_level_df['year'].str[0:4].astype('int')\n",
    "sea_level_df = sea_level_df.reset_index(drop=True)\n",
    "# print(sea_level_df.to_string)"
   ]
  },
  {
   "cell_type": "code",
   "execution_count": 14,
   "metadata": {},
   "outputs": [],
   "source": [
    "temperature_df = temperature_df.iloc[::-1]\n",
    "temperature_df.rename(columns={'Mean' : 'temperature', 'Year' : 'year'}, inplace = True)\n",
    "temperature_df = temperature_df[temperature_df['Source'] == 'GCAG']\n",
    "temperature_df.drop('Source', axis=1, inplace = True)\n",
    "temperature_df = temperature_df.iloc[65:134]\n",
    "temperature_df = temperature_df.reset_index(drop=True)\n",
    "# print(temperature_df.to_string)"
   ]
  },
  {
   "cell_type": "code",
   "execution_count": 15,
   "metadata": {},
   "outputs": [],
   "source": [
    "ice_melting_df[\"Change\"] = np.nan\n",
    "\n",
    "for num in range(len(ice_melting_df.index) - 1):\n",
    "        ice_melting_df.loc[num, \"Change\"] = ice_melting_df.loc[num + 1, \"Mean cumulative mass balance\"] - ice_melting_df.loc[num, \"Mean cumulative mass balance\"]\n",
    "\n",
    "ice_melting_df = ice_melting_df.iloc[:69]\n",
    "ice_melting_df.drop('Mean cumulative mass balance', axis=1, inplace = True)\n",
    "ice_melting_df.drop('Number of observations', axis=1, inplace = True)\n",
    "ice_melting_df.rename(columns={'Change' : 'ice_melting', 'Year' : 'year'}, inplace = True)\n",
    "# print(ice_melting_df.to_string)"
   ]
  },
  {
   "cell_type": "code",
   "execution_count": 16,
   "metadata": {},
   "outputs": [
    {
     "name": "stdout",
     "output_type": "stream",
     "text": [
      "<bound method DataFrame.to_string of     year  sea_level  temperature  ice_melting\n",
      "0   1945   2.956693       0.1710       -1.130\n",
      "1   1946   3.251969      -0.0040       -2.060\n",
      "2   1947   3.374016      -0.0477        0.000\n",
      "3   1948   3.562992      -0.0487       -0.630\n",
      "4   1949   3.511811      -0.0568       -1.067\n",
      "5   1950   3.598425      -0.1616       -0.330\n",
      "6   1951   3.972441      -0.0132       -0.490\n",
      "7   1952   3.870079       0.0248       -0.634\n",
      "8   1953   4.043307       0.0952       -0.484\n",
      "9   1954   3.929134      -0.1165        0.250\n",
      "10  1955   3.964567      -0.1354       -0.239\n",
      "11  1956   3.763780      -0.1990       -0.175\n",
      "12  1957   4.291339       0.0488       -0.704\n",
      "13  1958   4.346457       0.1095       -0.632\n",
      "14  1959   4.358268       0.0596       -0.363\n",
      "15  1960   4.503937       0.0204       -0.247\n",
      "16  1961   4.748031       0.0775       -0.174\n",
      "17  1962   4.543307       0.0888       -0.458\n",
      "18  1963   4.480315       0.1068       -0.132\n",
      "19  1964   4.169291      -0.1495        0.401\n",
      "20  1965   4.610236      -0.0780       -0.138\n",
      "21  1966   4.397638      -0.0227        0.133\n",
      "22  1967   4.452756      -0.0131        0.084\n",
      "23  1968   4.484252      -0.0296       -0.513\n",
      "24  1969   4.751968       0.0929       -0.396\n",
      "25  1970   4.677165       0.0372       -0.160\n",
      "26  1971   4.881890      -0.0783       -0.153\n",
      "27  1972   5.240157       0.0264       -0.097\n",
      "28  1973   5.003937       0.1641       -0.075\n",
      "29  1974   5.472441      -0.0719        0.079\n",
      "..   ...        ...          ...          ...\n",
      "39  1984   6.153543       0.1490       -0.336\n",
      "40  1985   5.748031       0.1342       -0.544\n",
      "41  1986   5.771654       0.2296       -0.013\n",
      "42  1987   5.795276       0.3696       -0.465\n",
      "43  1988   5.980315       0.3757       -0.083\n",
      "44  1989   6.157480       0.2970       -0.344\n",
      "45  1990   6.232283       0.4328       -0.568\n",
      "46  1991   6.334646       0.4055       -0.246\n",
      "47  1992   6.358268       0.2571       -0.194\n",
      "48  1993   6.291339       0.2853       -0.581\n",
      "49  1994   6.500000       0.3409       -0.210\n",
      "50  1995   6.618110       0.4577       -0.404\n",
      "51  1996   6.787402       0.3228       -0.597\n",
      "52  1997   7.066929       0.5187       -0.823\n",
      "53  1998   6.665354       0.6344       -0.387\n",
      "54  1999   7.011811       0.4438       -0.030\n",
      "55  2000   7.062992       0.4262       -0.305\n",
      "56  2001   7.287402       0.5473       -0.694\n",
      "57  2002   7.381890       0.6023       -1.258\n",
      "58  2003   7.759843       0.6134       -0.719\n",
      "59  2004   7.740157       0.5783       -0.702\n",
      "60  2005   7.744094       0.6585       -1.190\n",
      "61  2006   7.917323       0.6125       -0.660\n",
      "62  2007   7.996063       0.6100       -0.521\n",
      "63  2008   8.350394       0.5419       -0.683\n",
      "64  2009   8.586614       0.6367       -0.699\n",
      "65  2010   8.901575       0.7014       -1.136\n",
      "66  2011   8.964567       0.5788       -0.636\n",
      "67  2012   9.326772       0.6240       -0.887\n",
      "68  2013   8.980315       0.6679       -0.835\n",
      "\n",
      "[69 rows x 4 columns]>\n"
     ]
    }
   ],
   "source": [
    "world_data_df = pd.merge(sea_level_df, temperature_df, on='year')\n",
    "world_data_df = pd.merge(world_data_df, ice_melting_df, on='year')\n",
    "print(world_data_df.to_string)"
   ]
  },
  {
   "cell_type": "code",
   "execution_count": null,
   "metadata": {},
   "outputs": [],
   "source": [
    "import sklearn\n",
    "from sklearn.ensemble import (RandomForestRegressor, AdaBoostRegressor, ExtraTreesRegressor, GradientBoostingRegressor)\n",
    "from sklearn.svm import SVC\n",
    "import xgboost"
   ]
  },
  {
   "cell_type": "code",
   "execution_count": null,
   "metadata": {},
   "outputs": [],
   "source": [
    "\n",
    "        \n",
    "\n",
    "\n",
    "training_data = world_data\n",
    "ntrain = training_data.shape[0]\n",
    "Y = training_data[\"CSIRO Adjusted Sea Level\"]\n",
    "training_data.drop([\"CSIRO Adjusted Sea Level\", \"Year\"], axis=1, inplace=True)\n",
    "ntest = test_data.shape[0]\n",
    "\n",
    "SEED = 0\n",
    "FOLDS = 5\n",
    "\n",
    "kfold = sklearn.model_selection.KFold(n_splits=FOLDS, random_state=SEED)\n",
    "random_forest = RandomForestRegressor(n_estimators=575, warm_start=True, max_depth=5, min_samples_leaf=2, max_features=\"sqrt\", random_state=SEED, verbose=False)\n",
    "extra_trees = ExtraTreesRegressor(n_estimators=575, max_depth=5, min_samples_leaf=3, random_state=SEED, verbose=False)\n",
    "ada_boost = AdaBoostRegressor(n_estimators=575, learning_rate=0.95, random_state=SEED)\n",
    "gradient_boosting = GradientBoostingRegressor(n_estimators=575,  max_depth=5, min_samples_leaf=3, random_state=SEED, verbose=False)\n",
    "svc = SVC(kernel=\"linear\", C=0.025, random_state=SEED)\n",
    "base_predictions_train = pandas.DataFrame()\n",
    "classifier_names = {random_forest: \"Random_Forest\", extra_trees: \"Extra_Trees\", ada_boost: \"Ada_Boost\", gradient_boosting: \"Gradient_Boosting\", svc: \"SVC\"}\n",
    "train_list = list()\n",
    "test_list = list()\n",
    "for classifier in [random_forest, extra_trees, ada_boost, gradient_boosting, svc]:\n",
    "    oof_train = numpy.zeros((ntrain,))\n",
    "    oof_test = numpy.zeros((ntest,))\n",
    "    oof_test_kf = numpy.zeros((FOLDS, ntest))\n",
    "    num = 0\n",
    "    for train_index, test_index in kfold.split(training_data):\n",
    "        x_tr = X_train[train_index]\n",
    "        y_tr = Y_train[train_index]\n",
    "        x_te = X_train[test_index]\n",
    "        classifier.fit(x_tr, y_tr)\n",
    "        oof_train[test_index] = classifier.predict(x_te)\n",
    "        oof_test_kf[num, :] = classifier.predict(X_test)\n",
    "        num += 1\n",
    "    oof_test[:] = oof_test_kf.mean(axis=0)\n",
    "    base_predictions_train[classifier_names[classifier]] = oof_train.reshape(-1, 1).ravel()\n",
    "    train_list.append(oof_train.reshape(-1, 1))\n",
    "    test_list.append(oof_test.reshape(-1, 1))\n",
    "x_train = numpy.concatenate([train for train in train_list], axis=1)\n",
    "x_test = numpy.concatenate([test for test in test_list], axis=1)\n",
    "booster = xgboost.XGBClassifier(n_estimators=5000, learning_rate=0.95, max_depth=4, min_child_weight=2,  gamma=1, subsample=0.8, colsample_by_tree=1, objective=\"binary:logistic\", scale_pos_weight=1, silent=True)\n",
    "booster.fit(x_train, Y_train)\n",
    "predictions = booster.predict(x_test)"
   ]
  }
 ],
 "metadata": {
  "kernelspec": {
   "display_name": "Python 3",
   "language": "python",
   "name": "python3"
  },
  "language_info": {
   "codemirror_mode": {
    "name": "ipython",
    "version": 3
   },
   "file_extension": ".py",
   "mimetype": "text/x-python",
   "name": "python",
   "nbconvert_exporter": "python",
   "pygments_lexer": "ipython3",
   "version": "3.7.0"
  }
 },
 "nbformat": 4,
 "nbformat_minor": 2
}
