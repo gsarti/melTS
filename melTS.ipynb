{
 "cells": [
  {
   "cell_type": "code",
   "execution_count": 352,
   "metadata": {},
   "outputs": [],
   "source": [
    "import pandas\n",
    "import re\n",
    "import numpy as np\n",
    "world_data = pandas.read_csv(\"/Users/federicopigozzi/melTS/epa-sea-level_csv.csv\", header=0)\n",
    "world_data.drop(world_data.columns[4], axis=1, inplace=True)\n",
    "for num in world_data.index:\n",
    "    if num == 134:\n",
    "        continue\n",
    "    world_data.loc[num, \"CSIRO Adjusted Sea Level\"] = world_data.loc[num + 1, \"CSIRO Adjusted Sea Level\"] - world_data.loc[num, \"CSIRO Adjusted Sea Level\"]\n",
    "    world_data.loc[num, \"Lower Error Bound\"] = world_data.loc[num + 1, \"Lower Error Bound\"] - world_data.loc[num, \"Lower Error Bound\"]\n",
    "    world_data.loc[num, \"Upper Error Bound\"] = world_data.loc[num + 1, \"Upper Error Bound\"] - world_data.loc[num, \"Upper Error Bound\"]\n",
    "world_data.drop(134, axis=0, inplace=True)\n",
    "temperature_df = pandas.read_csv(\"/Users/federicopigozzi/melTS/annual_csv.csv\", header=0)\n",
    "temperature = list()\n",
    "for num in temperature_df.index:\n",
    "    if num > 268:\n",
    "        break\n",
    "    if num % 2 != 0:\n",
    "        temperature.append((temperature_df.loc[num - 1, \"Mean\"] + temperature_df.loc[num, \"Mean\"]) / 2.0)\n",
    "ice_data = pandas.read_csv(\"/Users/federicopigozzi/melTS/glaciers_csv.csv\", header=0)\n",
    "ice_data[\"Change\"] = np.nan\n",
    "for num in ice_data.index:\n",
    "    if num == 69:\n",
    "        ice_data.drop(num, axis=0, inplace=True)\n",
    "    else:\n",
    "        ice_data.loc[num, \"Change\"] = ice_data.loc[num + 1, \"Mean cumulative mass balance\"] - ice_data.loc[num, \"Mean cumulative mass balance\"]\n",
    "for num in list(range(66)):\n",
    "    world_data.drop(num, axis=0, inplace=True)\n",
    "co2_data = pandas.read_csv(\"/Users/federicopigozzi/Downloads/global_csv.csv\", header=0)\n",
    "co2_data.drop([\"Gas Fuel\", \"Liquid Fuel\", \"Solid Fuel\", \"Cement\", \"Gas Flaring\", \"Per Capita\"], axis=1, inplace=True)\n",
    "for num in co2_data.index:\n",
    "    if num <= 193:\n",
    "        co2_data.drop(num, axis=0, inplace=True)\n",
    "co2_data.reset_index(inplace=True)\n",
    "world_data.reset_index(inplace=True)\n",
    "world_data[\"Mean Ice Mass Loss\"] = ice_data[\"Change\"]\n",
    "world_data[\"Temp\"] = temperature[::-1][66:]\n",
    "for num in world_data.index:\n",
    "    world_data.loc[num, \"Year\"] = world_data.loc[num, \"Year\"][0:4]\n",
    "world_data = world_data.astype(\"float64\")\n",
    "for num in world_data.index:\n",
    "    if world_data.loc[num, \"Year\"] > 2010:\n",
    "        world_data.drop(num, axis=0, inplace=True)\n",
    "world_data[\"co2\"] = co2_data[\"Total\"]\n",
    "world_data = world_data.astype(\"float64\")\n",
    "world_data.drop(\"index\", axis=1, inplace=True)"
   ]
  },
  {
   "cell_type": "code",
   "execution_count": 353,
   "metadata": {},
   "outputs": [
    {
     "name": "stdout",
     "output_type": "stream",
     "text": [
      "Populating the interactive namespace from numpy and matplotlib\n"
     ]
    }
   ],
   "source": [
    "% pylab inline\n",
    "from scipy.interpolate import interp1d\n",
    "from sklearn.linear_model import LinearRegression"
   ]
  },
  {
   "cell_type": "code",
   "execution_count": 354,
   "metadata": {},
   "outputs": [],
   "source": [
    "x = world_data[\"Year\"]\n",
    "y = world_data[\"Temp\"]\n",
    "extrapolation_temp = interp1d(x, y, kind=\"linear\", fill_value=\"extrapolate\")\n",
    "xnew = pandas.DataFrame.from_dict({\"x\": [new_year for new_year in range(2010, 2100)]})\n",
    "y = world_data[\"Mean Ice Mass Loss\"]\n",
    "extrapolation_ice = interp1d(x, y, kind=\"linear\", fill_value=\"extrapolate\")\n",
    "y = world_data[\"co2\"]\n",
    "lregressor = LinearRegression()\n",
    "lregressor.fit(x.values.reshape(-1, 1), y.values.reshape(-1, 1))\n",
    "extrapolation_co2 = lregressor.predict(xnew)\n",
    "extrapolation_temp = [elem[0] for elem in extrapolation_temp(xnew)]\n",
    "extrapolation_ice = [elem[0] for elem in extrapolation_ice(xnew)]\n",
    "extrapolation_co2 = [elem[0] for elem in extrapolation_co2]\n",
    "X_test = pandas.DataFrame.from_dict({\"Mean Ice Mass Loss\": extrapolation_ice, \"Temp\": extrapolation_temp, \"co2\": extrapolation_co2})"
   ]
  },
  {
   "cell_type": "code",
   "execution_count": 376,
   "metadata": {},
   "outputs": [
    {
     "name": "stderr",
     "output_type": "stream",
     "text": [
      "/anaconda3/lib/python3.7/site-packages/ipykernel_launcher.py:25: DataConversionWarning: A column-vector y was passed when a 1d array was expected. Please change the shape of y to (n_samples,), for example using ravel().\n",
      "/anaconda3/lib/python3.7/site-packages/ipykernel_launcher.py:25: DataConversionWarning: A column-vector y was passed when a 1d array was expected. Please change the shape of y to (n_samples,), for example using ravel().\n",
      "/anaconda3/lib/python3.7/site-packages/sklearn/utils/validation.py:578: DataConversionWarning: A column-vector y was passed when a 1d array was expected. Please change the shape of y to (n_samples, ), for example using ravel().\n",
      "  y = column_or_1d(y, warn=True)\n",
      "/anaconda3/lib/python3.7/site-packages/sklearn/utils/validation.py:578: DataConversionWarning: A column-vector y was passed when a 1d array was expected. Please change the shape of y to (n_samples, ), for example using ravel().\n",
      "  y = column_or_1d(y, warn=True)\n"
     ]
    },
    {
     "data": {
      "image/png": "[encoded data removed]",
      "text/plain": [
       "<Figure size 432x288 with 1 Axes>"
      ]
     },
     "metadata": {
      "needs_background": "light"
     },
     "output_type": "display_data"
    }
   ],
   "source": [
    "import sklearn\n",
    "from sklearn.ensemble import (RandomForestRegressor, AdaBoostRegressor, ExtraTreesRegressor, GradientBoostingRegressor)\n",
    "from sklearn.svm import SVC\n",
    "import xgboost\n",
    "\n",
    "\n",
    "training_data = world_data\n",
    "ntrain = training_data.shape[0]\n",
    "Y_train = training_data[\"Upper Error Bound\"].values.reshape((65, 1))\n",
    "X_train = training_data.drop([\"CSIRO Adjusted Sea Level\", \"Year\", \"Upper Error Bound\", \"Lower Error Bound\"], axis=1)\n",
    "ntest = test_data.shape[0]\n",
    "#print(Y_train.shape, X_train.shape, training_data.columns)\n",
    "SEED = 0\n",
    "FOLDS = 5\n",
    "#print(X_train.shape, Y_train.shape, X_test.shape)\n",
    "kfold = sklearn.model_selection.KFold(n_splits=FOLDS, random_state=SEED)\n",
    "random_forest = RandomForestRegressor(n_estimators=575, warm_start=True, max_depth=5, min_samples_leaf=2, max_features=\"sqrt\", random_state=SEED, verbose=False)\n",
    "extra_trees = ExtraTreesRegressor(n_estimators=575, max_depth=5, min_samples_leaf=3, random_state=SEED, verbose=False)\n",
    "ada_boost = AdaBoostRegressor(n_estimators=575, learning_rate=0.95, random_state=SEED)\n",
    "gradient_boosting = GradientBoostingRegressor(n_estimators=575,  max_depth=5, min_samples_leaf=3, random_state=SEED, verbose=False)\n",
    "base_predictions_train = pandas.DataFrame()\n",
    "classifier_names = {random_forest: \"Random_Forest\", extra_trees: \"Extra_Trees\", ada_boost: \"Ada_Boost\", gradient_boosting: \"Gradient_Boosting\"}#, svc: \"SVC\"}\n",
    "#train_x, test_x, train_y, test_y = sklearn.model_selection.train_test_split(training_data, Y, random_state=SEED)\n",
    "for classifier in classifier_names.keys():\n",
    "    classifier.fit(X_train, Y_train)\n",
    "    predictions = classifier.predict(X_test)\n",
    "    print(np.sum(classifier.predict(X_test)))\n",
    "    #print(sklearn.metrics.mean_squared_error(test_y, temp_pred))\n",
    "#train_list = list()\n",
    "#test_list = list()\n",
    "#for classifier in [random_forest, extra_trees, ada_boost, gradient_boosting]:#, svc]:\n",
    "#    oof_train = numpy.zeros((ntrain,))\n",
    "#    oof_test = numpy.zeros((ntest,))\n",
    "#    oof_test_kf = numpy.zeros((FOLDS, ntest))\n",
    "#    num = 0\n",
    "#    for train_index, test_index in kfold.split(training_data):\n",
    "#        x_tr = X_train.loc[train_index[0]:train_index[-1], :]\n",
    "#        y_tr = Y_train[train_index]\n",
    "#        x_te = X_train.loc[test_index[0]:test_index[-1], :]\n",
    "#        classifier.fit(x_tr, y_tr)\n",
    "#        oof_train[test_index] = classifier.predict(x_te)\n",
    "#        oof_test_kf[num, :] = classifier.predict(X_test)\n",
    "#        num += 1\n",
    "#    oof_test[:] = oof_test_kf.mean(axis=0)\n",
    "#    base_predictions_train[classifier_names[classifier]] = oof_train.reshape(-1, 1).ravel()\n",
    "#    train_list.append(oof_train.reshape(-1, 1))\n",
    "#    test_list.append(oof_test.reshape(-1, 1))\n",
    "#x_train = numpy.concatenate([train for train in train_list], axis=1)\n",
    "#x_test = numpy.concatenate([test for test in test_list], axis=1)\n",
    "#booster = xgboost.XGBClassifier(n_estimators=5000, learning_rate=0.95, max_depth=4, min_child_weight=2,  gamma=1, subsample=0.8, colsample_by_tree=1, objective=\"binary:logistic\", scale_pos_weight=1, silent=True)\n",
    "#booster.fit(x_train, Y_train)\n",
    "#predictions = booster.predict(x_test)\n",
    "#plot(xnew, predictions)"
   ]
  },
  {
   "cell_type": "code",
   "execution_count": null,
   "metadata": {},
   "outputs": [],
   "source": []
  },
  {
   "cell_type": "code",
   "execution_count": null,
   "metadata": {},
   "outputs": [],
   "source": []
  },
  {
   "cell_type": "code",
   "execution_count": null,
   "metadata": {},
   "outputs": [],
   "source": []
  },
  {
   "cell_type": "code",
   "execution_count": null,
   "metadata": {},
   "outputs": [],
   "source": [
    "\n"
   ]
  },
  {
   "cell_type": "code",
   "execution_count": null,
   "metadata": {},
   "outputs": [],
   "source": []
  }
 ],
 "metadata": {
  "kernelspec": {
   "display_name": "Python 3",
   "language": "python",
   "name": "python3"
  },
  "language_info": {
   "codemirror_mode": {
    "name": "ipython",
    "version": 3
   },
   "file_extension": ".py",
   "mimetype": "text/x-python",
   "name": "python",
   "nbconvert_exporter": "python",
   "pygments_lexer": "ipython3",
   "version": "3.7.0"
  }
 },
 "nbformat": 4,
 "nbformat_minor": 2
}
